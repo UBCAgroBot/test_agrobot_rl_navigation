{
 "cells": [
  {
   "cell_type": "code",
   "execution_count": 1,
   "metadata": {},
   "outputs": [
    {
     "name": "stdout",
     "output_type": "stream",
     "text": [
      "True\n"
     ]
    }
   ],
   "source": [
    "import torch\n",
    "print(torch.cuda.is_available())\n",
    "\n",
    "from stable_baselines3 import PPO\n",
    "import gymnasium as gym\n",
    "from continuous_env.robot_obstacles import RobotObstacles\n",
    "\n",
    "gym.register(\n",
    "    id=\"RobotObstacleEnv-v1\",\n",
    "    entry_point=RobotObstacles,\n",
    "    max_episode_steps=10000,\n",
    ")"
   ]
  },
  {
   "cell_type": "code",
   "execution_count": null,
   "metadata": {},
   "outputs": [
    {
     "name": "stdout",
     "output_type": "stream",
     "text": [
      "Learning\n"
     ]
    }
   ],
   "source": [
    "from stable_baselines3.common.vec_env import VecTransposeImage, SubprocVecEnv, DummyVecEnv\n",
    "from stable_baselines3.common.callbacks import CheckpointCallback\n",
    "import multiprocessing as mp\n",
    "mp.set_start_method('spawn', force=True)\n",
    "\n",
    "TIMESTEPS = 20_000_000\n",
    "\n",
    "def make_env():\n",
    "    return RobotObstacles()\n",
    "\n",
    "log_path = \"./logs\"\n",
    "num_envs = 4\n",
    "envs = SubprocVecEnv([make_env for _ in range(num_envs)])\n",
    "env = VecTransposeImage(envs)\n",
    "\n",
    "device = torch.device(\"cuda\" if torch.cuda.is_available() else \"cpu\")\n",
    "model = PPO(\"CnnPolicy\", env, device=device, tensorboard_log=log_path)\n",
    "\n",
    "checkpoint_callback = CheckpointCallback(save_freq=1_000_000, save_path=\"./checkpoints/\", name_prefix=\"ppo_model\")\n",
    "print(\"Learning\")\n",
    "model.learn(total_timesteps=TIMESTEPS, callback=checkpoint_callback)"
   ]
  },
  {
   "cell_type": "code",
   "execution_count": null,
   "metadata": {},
   "outputs": [],
   "source": []
  },
  {
   "cell_type": "code",
   "execution_count": null,
   "metadata": {},
   "outputs": [],
   "source": [
    "obs, _info = env.reset()\n",
    "avg_reward = 0\n",
    "num_envs = 1\n",
    "for _ in range(10000):\n",
    "    action, _states = model.predict(obs)\n",
    "    obs, reward, term, trunc, info = env.step(action)\n",
    "    done = term or trunc\n",
    "    if done:\n",
    "        num_envs += 1\n",
    "        avg_reward += reward\n",
    "        obs, _info = env.reset()\n",
    "\n",
    "avg_reward /= num_envs\n",
    "avg_reward"
   ]
  },
  {
   "cell_type": "code",
   "execution_count": 3,
   "metadata": {},
   "outputs": [],
   "source": [
    "# model.save(\"weights/ppo_model\")"
   ]
  }
 ],
 "metadata": {
  "kernelspec": {
   "display_name": ".venv",
   "language": "python",
   "name": "python3"
  },
  "language_info": {
   "codemirror_mode": {
    "name": "ipython",
    "version": 3
   },
   "file_extension": ".py",
   "mimetype": "text/x-python",
   "name": "python",
   "nbconvert_exporter": "python",
   "pygments_lexer": "ipython3",
   "version": "3.11.11"
  }
 },
 "nbformat": 4,
 "nbformat_minor": 2
}
