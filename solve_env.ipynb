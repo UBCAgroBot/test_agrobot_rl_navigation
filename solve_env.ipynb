{
 "cells": [
  {
   "cell_type": "code",
   "execution_count": null,
   "metadata": {},
   "outputs": [],
   "source": [
    "import torch\n",
    "print(torch.cuda.is_available())\n",
    "\n",
    "from stable_baselines3 import PPO\n",
    "import gymnasium as gym\n",
    "\n",
    "gym.register(\n",
    "    id=\"RobotObstacleEnv-v0\",\n",
    "    entry_point=\"robot_obstacles_env:RobotObstacleEnv\",\n",
    "    max_episode_steps=500,\n",
    ")"
   ]
  },
  {
   "cell_type": "code",
   "execution_count": null,
   "metadata": {},
   "outputs": [],
   "source": [
    "\n",
    "# TIMESTEPS = 10000000\n",
    "env = gym.make(\"RobotObstacleEnv-v0\")\n",
    "\n",
    "device = torch.device(\"cuda\" if torch.cuda.is_available() else \"cpu\")\n",
    "model = PPO(\"MultiInputPolicy\", env, device=device)\n",
    "model.learn(total_timesteps=10000)"
   ]
  },
  {
   "cell_type": "code",
   "execution_count": null,
   "metadata": {},
   "outputs": [],
   "source": [
    "obs, _info = env.reset()\n",
    "avg_reward = 0\n",
    "num_envs = 1\n",
    "for _ in range(10000):\n",
    "    action, _states = model.predict(obs)\n",
    "    obs, reward, term, trunc, info = env.step(action)\n",
    "    done = term or trunc\n",
    "    if done:\n",
    "        num_envs += 1\n",
    "        avg_reward += reward\n",
    "        obs, _info = env.reset()\n",
    "\n",
    "avg_reward /= num_envs\n",
    "avg_reward"
   ]
  },
  {
   "cell_type": "code",
   "execution_count": 3,
   "metadata": {},
   "outputs": [],
   "source": [
    "# model.save(\"weights/ppo_model\")"
   ]
  }
 ],
 "metadata": {
  "kernelspec": {
   "display_name": ".venv",
   "language": "python",
   "name": "python3"
  },
  "language_info": {
   "codemirror_mode": {
    "name": "ipython",
    "version": 3
   },
   "file_extension": ".py",
   "mimetype": "text/x-python",
   "name": "python",
   "nbconvert_exporter": "python",
   "pygments_lexer": "ipython3",
   "version": "3.11.11"
  }
 },
 "nbformat": 4,
 "nbformat_minor": 2
}
