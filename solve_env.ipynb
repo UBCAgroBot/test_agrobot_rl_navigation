{
 "cells": [
  {
   "cell_type": "code",
   "execution_count": 1,
   "metadata": {},
   "outputs": [
    {
     "name": "stdout",
     "output_type": "stream",
     "text": [
      "Requirement already satisfied: stable_baselines3 in /home/nlin/.pyenv/versions/3.11.11/lib/python3.11/site-packages (2.5.0)\n",
      "Requirement already satisfied: gymnasium<1.1.0,>=0.29.1 in /home/nlin/.pyenv/versions/3.11.11/lib/python3.11/site-packages (from stable_baselines3) (1.0.0)\n",
      "Requirement already satisfied: numpy<3.0,>=1.20 in /home/nlin/.pyenv/versions/3.11.11/lib/python3.11/site-packages (from stable_baselines3) (2.2.2)\n",
      "Requirement already satisfied: torch<3.0,>=2.3 in /home/nlin/.pyenv/versions/3.11.11/lib/python3.11/site-packages (from stable_baselines3) (2.6.0+cu126)\n",
      "Requirement already satisfied: cloudpickle in /home/nlin/.pyenv/versions/3.11.11/lib/python3.11/site-packages (from stable_baselines3) (3.1.1)\n",
      "Requirement already satisfied: pandas in /home/nlin/.pyenv/versions/3.11.11/lib/python3.11/site-packages (from stable_baselines3) (2.2.3)\n",
      "Requirement already satisfied: matplotlib in /home/nlin/.pyenv/versions/3.11.11/lib/python3.11/site-packages (from stable_baselines3) (3.10.0)\n",
      "Requirement already satisfied: typing-extensions>=4.3.0 in /home/nlin/.pyenv/versions/3.11.11/lib/python3.11/site-packages (from gymnasium<1.1.0,>=0.29.1->stable_baselines3) (4.12.2)\n",
      "Requirement already satisfied: farama-notifications>=0.0.1 in /home/nlin/.pyenv/versions/3.11.11/lib/python3.11/site-packages (from gymnasium<1.1.0,>=0.29.1->stable_baselines3) (0.0.4)\n",
      "Requirement already satisfied: filelock in /home/nlin/.pyenv/versions/3.11.11/lib/python3.11/site-packages (from torch<3.0,>=2.3->stable_baselines3) (3.16.1)\n",
      "Requirement already satisfied: sympy==1.13.1 in /home/nlin/.pyenv/versions/3.11.11/lib/python3.11/site-packages (from torch<3.0,>=2.3->stable_baselines3) (1.13.1)\n",
      "Requirement already satisfied: networkx in /home/nlin/.pyenv/versions/3.11.11/lib/python3.11/site-packages (from torch<3.0,>=2.3->stable_baselines3) (3.4.2)\n",
      "Requirement already satisfied: jinja2 in /home/nlin/.pyenv/versions/3.11.11/lib/python3.11/site-packages (from torch<3.0,>=2.3->stable_baselines3) (3.1.5)\n",
      "Requirement already satisfied: fsspec in /home/nlin/.pyenv/versions/3.11.11/lib/python3.11/site-packages (from torch<3.0,>=2.3->stable_baselines3) (2024.12.0)\n",
      "Requirement already satisfied: nvidia-cuda-nvrtc-cu12==12.6.77 in /home/nlin/.pyenv/versions/3.11.11/lib/python3.11/site-packages (from torch<3.0,>=2.3->stable_baselines3) (12.6.77)\n",
      "Requirement already satisfied: nvidia-cuda-runtime-cu12==12.6.77 in /home/nlin/.pyenv/versions/3.11.11/lib/python3.11/site-packages (from torch<3.0,>=2.3->stable_baselines3) (12.6.77)\n",
      "Requirement already satisfied: nvidia-cuda-cupti-cu12==12.6.80 in /home/nlin/.pyenv/versions/3.11.11/lib/python3.11/site-packages (from torch<3.0,>=2.3->stable_baselines3) (12.6.80)\n",
      "Requirement already satisfied: nvidia-cudnn-cu12==9.5.1.17 in /home/nlin/.pyenv/versions/3.11.11/lib/python3.11/site-packages (from torch<3.0,>=2.3->stable_baselines3) (9.5.1.17)\n",
      "Requirement already satisfied: nvidia-cublas-cu12==12.6.4.1 in /home/nlin/.pyenv/versions/3.11.11/lib/python3.11/site-packages (from torch<3.0,>=2.3->stable_baselines3) (12.6.4.1)\n",
      "Requirement already satisfied: nvidia-cufft-cu12==11.3.0.4 in /home/nlin/.pyenv/versions/3.11.11/lib/python3.11/site-packages (from torch<3.0,>=2.3->stable_baselines3) (11.3.0.4)\n",
      "Requirement already satisfied: nvidia-curand-cu12==10.3.7.77 in /home/nlin/.pyenv/versions/3.11.11/lib/python3.11/site-packages (from torch<3.0,>=2.3->stable_baselines3) (10.3.7.77)\n",
      "Requirement already satisfied: nvidia-cusolver-cu12==11.7.1.2 in /home/nlin/.pyenv/versions/3.11.11/lib/python3.11/site-packages (from torch<3.0,>=2.3->stable_baselines3) (11.7.1.2)\n",
      "Requirement already satisfied: nvidia-cusparse-cu12==12.5.4.2 in /home/nlin/.pyenv/versions/3.11.11/lib/python3.11/site-packages (from torch<3.0,>=2.3->stable_baselines3) (12.5.4.2)\n",
      "Requirement already satisfied: nvidia-cusparselt-cu12==0.6.3 in /home/nlin/.pyenv/versions/3.11.11/lib/python3.11/site-packages (from torch<3.0,>=2.3->stable_baselines3) (0.6.3)\n",
      "Requirement already satisfied: nvidia-nccl-cu12==2.21.5 in /home/nlin/.pyenv/versions/3.11.11/lib/python3.11/site-packages (from torch<3.0,>=2.3->stable_baselines3) (2.21.5)\n",
      "Requirement already satisfied: nvidia-nvtx-cu12==12.6.77 in /home/nlin/.pyenv/versions/3.11.11/lib/python3.11/site-packages (from torch<3.0,>=2.3->stable_baselines3) (12.6.77)\n",
      "Requirement already satisfied: nvidia-nvjitlink-cu12==12.6.85 in /home/nlin/.pyenv/versions/3.11.11/lib/python3.11/site-packages (from torch<3.0,>=2.3->stable_baselines3) (12.6.85)\n",
      "Requirement already satisfied: triton==3.2.0 in /home/nlin/.pyenv/versions/3.11.11/lib/python3.11/site-packages (from torch<3.0,>=2.3->stable_baselines3) (3.2.0)\n",
      "Requirement already satisfied: mpmath<1.4,>=1.1.0 in /home/nlin/.pyenv/versions/3.11.11/lib/python3.11/site-packages (from sympy==1.13.1->torch<3.0,>=2.3->stable_baselines3) (1.3.0)\n",
      "Requirement already satisfied: contourpy>=1.0.1 in /home/nlin/.pyenv/versions/3.11.11/lib/python3.11/site-packages (from matplotlib->stable_baselines3) (1.3.1)\n",
      "Requirement already satisfied: cycler>=0.10 in /home/nlin/.pyenv/versions/3.11.11/lib/python3.11/site-packages (from matplotlib->stable_baselines3) (0.12.1)\n",
      "Requirement already satisfied: fonttools>=4.22.0 in /home/nlin/.pyenv/versions/3.11.11/lib/python3.11/site-packages (from matplotlib->stable_baselines3) (4.55.7)\n",
      "Requirement already satisfied: kiwisolver>=1.3.1 in /home/nlin/.pyenv/versions/3.11.11/lib/python3.11/site-packages (from matplotlib->stable_baselines3) (1.4.8)\n",
      "Requirement already satisfied: packaging>=20.0 in /home/nlin/.pyenv/versions/3.11.11/lib/python3.11/site-packages (from matplotlib->stable_baselines3) (24.2)\n",
      "Requirement already satisfied: pillow>=8 in /home/nlin/.pyenv/versions/3.11.11/lib/python3.11/site-packages (from matplotlib->stable_baselines3) (10.4.0)\n",
      "Requirement already satisfied: pyparsing>=2.3.1 in /home/nlin/.pyenv/versions/3.11.11/lib/python3.11/site-packages (from matplotlib->stable_baselines3) (3.2.1)\n",
      "Requirement already satisfied: python-dateutil>=2.7 in /home/nlin/.pyenv/versions/3.11.11/lib/python3.11/site-packages (from matplotlib->stable_baselines3) (2.9.0.post0)\n",
      "Requirement already satisfied: pytz>=2020.1 in /home/nlin/.pyenv/versions/3.11.11/lib/python3.11/site-packages (from pandas->stable_baselines3) (2024.2)\n",
      "Requirement already satisfied: tzdata>=2022.7 in /home/nlin/.pyenv/versions/3.11.11/lib/python3.11/site-packages (from pandas->stable_baselines3) (2025.1)\n",
      "Requirement already satisfied: six>=1.5 in /home/nlin/.pyenv/versions/3.11.11/lib/python3.11/site-packages (from python-dateutil>=2.7->matplotlib->stable_baselines3) (1.17.0)\n",
      "Requirement already satisfied: MarkupSafe>=2.0 in /home/nlin/.pyenv/versions/3.11.11/lib/python3.11/site-packages (from jinja2->torch<3.0,>=2.3->stable_baselines3) (3.0.2)\n",
      "\n",
      "\u001b[1m[\u001b[0m\u001b[34;49mnotice\u001b[0m\u001b[1;39;49m]\u001b[0m\u001b[39;49m A new release of pip is available: \u001b[0m\u001b[31;49m24.0\u001b[0m\u001b[39;49m -> \u001b[0m\u001b[32;49m25.0\u001b[0m\n",
      "\u001b[1m[\u001b[0m\u001b[34;49mnotice\u001b[0m\u001b[1;39;49m]\u001b[0m\u001b[39;49m To update, run: \u001b[0m\u001b[32;49mpip install --upgrade pip\u001b[0m\n",
      "Note: you may need to restart the kernel to use updated packages.\n"
     ]
    }
   ],
   "source": [
    "%pip install stable_baselines3\n",
    "import os\n",
    "os.environ[\"CUDA_VISIBLE_DEVICES\"] = \"\"\n",
    "from stable_baselines3 import PPO\n",
    "import gymnasium as gym\n",
    "\n",
    "\n",
    "gym.register(\n",
    "    id=\"RobotObstacleEnv-v0\",\n",
    "    entry_point=\"robot_obstacles_env:RobotObstacleEnv\",\n",
    "    max_episode_steps=500,\n",
    ")"
   ]
  },
  {
   "cell_type": "code",
   "execution_count": 2,
   "metadata": {},
   "outputs": [
    {
     "name": "stderr",
     "output_type": "stream",
     "text": [
      "/home/nlin/.pyenv/versions/3.11.11/lib/python3.11/site-packages/gymnasium/envs/registration.py:642: UserWarning: \u001b[33mWARN: Overriding environment RobotObstacleEnv-v0 already in registry.\u001b[0m\n",
      "  logger.warn(f\"Overriding environment {new_spec.id} already in registry.\")\n"
     ]
    },
    {
     "ename": "KeyboardInterrupt",
     "evalue": "",
     "output_type": "error",
     "traceback": [
      "\u001b[0;31m---------------------------------------------------------------------------\u001b[0m",
      "\u001b[0;31mKeyboardInterrupt\u001b[0m                         Traceback (most recent call last)",
      "Cell \u001b[0;32mIn[2], line 2\u001b[0m\n\u001b[1;32m      1\u001b[0m TIMESTEPS \u001b[38;5;241m=\u001b[39m \u001b[38;5;241m10000000\u001b[39m\n\u001b[0;32m----> 2\u001b[0m env \u001b[38;5;241m=\u001b[39m \u001b[43mgym\u001b[49m\u001b[38;5;241;43m.\u001b[39;49m\u001b[43mmake\u001b[49m\u001b[43m(\u001b[49m\u001b[38;5;124;43m\"\u001b[39;49m\u001b[38;5;124;43mRobotObstacleEnv-v0\u001b[39;49m\u001b[38;5;124;43m\"\u001b[39;49m\u001b[43m)\u001b[49m\n\u001b[1;32m      4\u001b[0m \u001b[38;5;66;03m# model = PPO.load(\"weights/ppo_model\")\u001b[39;00m\n\u001b[1;32m      5\u001b[0m model \u001b[38;5;241m=\u001b[39m PPO(\u001b[38;5;124m\"\u001b[39m\u001b[38;5;124mMultiInputPolicy\u001b[39m\u001b[38;5;124m\"\u001b[39m, env)\n",
      "File \u001b[0;32m~/.pyenv/versions/3.11.11/lib/python3.11/site-packages/gymnasium/envs/registration.py:740\u001b[0m, in \u001b[0;36mmake\u001b[0;34m(id, max_episode_steps, disable_env_checker, **kwargs)\u001b[0m\n\u001b[1;32m    734\u001b[0m         logger\u001b[38;5;241m.\u001b[39mwarn(\n\u001b[1;32m    735\u001b[0m             \u001b[38;5;124mf\u001b[39m\u001b[38;5;124m\"\u001b[39m\u001b[38;5;124mThe environment is being initialised with render_mode=\u001b[39m\u001b[38;5;132;01m{\u001b[39;00mrender_mode\u001b[38;5;132;01m!r}\u001b[39;00m\u001b[38;5;124m \u001b[39m\u001b[38;5;124m\"\u001b[39m\n\u001b[1;32m    736\u001b[0m             \u001b[38;5;124mf\u001b[39m\u001b[38;5;124m\"\u001b[39m\u001b[38;5;124mthat is not in the possible render_modes (\u001b[39m\u001b[38;5;132;01m{\u001b[39;00mrender_modes\u001b[38;5;132;01m}\u001b[39;00m\u001b[38;5;124m).\u001b[39m\u001b[38;5;124m\"\u001b[39m\n\u001b[1;32m    737\u001b[0m         )\n\u001b[1;32m    739\u001b[0m \u001b[38;5;28;01mtry\u001b[39;00m:\n\u001b[0;32m--> 740\u001b[0m     env \u001b[38;5;241m=\u001b[39m \u001b[43menv_creator\u001b[49m\u001b[43m(\u001b[49m\u001b[38;5;241;43m*\u001b[39;49m\u001b[38;5;241;43m*\u001b[39;49m\u001b[43menv_spec_kwargs\u001b[49m\u001b[43m)\u001b[49m\n\u001b[1;32m    741\u001b[0m \u001b[38;5;28;01mexcept\u001b[39;00m \u001b[38;5;167;01mTypeError\u001b[39;00m \u001b[38;5;28;01mas\u001b[39;00m e:\n\u001b[1;32m    742\u001b[0m     \u001b[38;5;28;01mif\u001b[39;00m (\n\u001b[1;32m    743\u001b[0m         \u001b[38;5;28mstr\u001b[39m(e)\u001b[38;5;241m.\u001b[39mfind(\u001b[38;5;124m\"\u001b[39m\u001b[38;5;124mgot an unexpected keyword argument \u001b[39m\u001b[38;5;124m'\u001b[39m\u001b[38;5;124mrender_mode\u001b[39m\u001b[38;5;124m'\u001b[39m\u001b[38;5;124m\"\u001b[39m) \u001b[38;5;241m>\u001b[39m\u001b[38;5;241m=\u001b[39m \u001b[38;5;241m0\u001b[39m\n\u001b[1;32m    744\u001b[0m         \u001b[38;5;129;01mand\u001b[39;00m apply_human_rendering\n\u001b[1;32m    745\u001b[0m     ):\n",
      "File \u001b[0;32m~/workspace/code/projects/test_agrobot_rl_2d/robot_obstacles_env.py:22\u001b[0m, in \u001b[0;36mRobotObstacleEnv.__init__\u001b[0;34m(self, discount, render_mode)\u001b[0m\n\u001b[1;32m     21\u001b[0m \u001b[38;5;28;01mdef\u001b[39;00m\u001b[38;5;250m \u001b[39m\u001b[38;5;21m__init__\u001b[39m(\u001b[38;5;28mself\u001b[39m, discount\u001b[38;5;241m=\u001b[39m\u001b[38;5;241m0.9999\u001b[39m, render_mode\u001b[38;5;241m=\u001b[39m\u001b[38;5;28;01mNone\u001b[39;00m) \u001b[38;5;241m-\u001b[39m\u001b[38;5;241m>\u001b[39m \u001b[38;5;28;01mNone\u001b[39;00m:\n\u001b[0;32m---> 22\u001b[0m     \u001b[38;5;28mself\u001b[39m\u001b[38;5;241m.\u001b[39mrobot_grid_env \u001b[38;5;241m=\u001b[39m \u001b[43mGridEnv\u001b[49m\u001b[43m(\u001b[49m\u001b[43msize\u001b[49m\u001b[38;5;241;43m=\u001b[39;49m\u001b[38;5;241;43m6\u001b[39;49m\u001b[43m)\u001b[49m\n\u001b[1;32m     23\u001b[0m     \u001b[38;5;28mself\u001b[39m\u001b[38;5;241m.\u001b[39mrender_mode \u001b[38;5;241m=\u001b[39m render_mode\n\u001b[1;32m     24\u001b[0m     \u001b[38;5;28mself\u001b[39m\u001b[38;5;241m.\u001b[39msteps: \u001b[38;5;28mint\u001b[39m \u001b[38;5;241m=\u001b[39m \u001b[38;5;241m0\u001b[39m\n",
      "File \u001b[0;32m~/workspace/code/projects/test_agrobot_rl_2d/robot_obstacles_class.py:15\u001b[0m, in \u001b[0;36mGridEnv.__init__\u001b[0;34m(self, size)\u001b[0m\n\u001b[1;32m     14\u001b[0m \u001b[38;5;28;01mdef\u001b[39;00m\u001b[38;5;250m \u001b[39m\u001b[38;5;21m__init__\u001b[39m(\u001b[38;5;28mself\u001b[39m, size: \u001b[38;5;28mint\u001b[39m) \u001b[38;5;241m-\u001b[39m\u001b[38;5;241m>\u001b[39m \u001b[38;5;28;01mNone\u001b[39;00m:\n\u001b[0;32m---> 15\u001b[0m     \u001b[38;5;28mself\u001b[39m\u001b[38;5;241m.\u001b[39menv_orig \u001b[38;5;241m=\u001b[39m _import_envs(\u001b[43mmaze_generator\u001b[49m\u001b[43m(\u001b[49m\u001b[43m(\u001b[49m\u001b[43msize\u001b[49m\u001b[43m,\u001b[49m\u001b[43m \u001b[49m\u001b[43msize\u001b[49m\u001b[43m)\u001b[49m\u001b[43m)\u001b[49m)\n\u001b[1;32m     16\u001b[0m     \u001b[38;5;28mself\u001b[39m\u001b[38;5;241m.\u001b[39msize \u001b[38;5;241m=\u001b[39m size\n\u001b[1;32m     17\u001b[0m     \u001b[38;5;28mself\u001b[39m\u001b[38;5;241m.\u001b[39menv_space: np\u001b[38;5;241m.\u001b[39mndarray\n",
      "File \u001b[0;32m~/workspace/code/projects/test_agrobot_rl_2d/util/maze_generator.py:9\u001b[0m, in \u001b[0;36mmaze_generator\u001b[0;34m(dims, min_dist, depth, smoothness)\u001b[0m\n\u001b[1;32m      6\u001b[0m \u001b[38;5;28;01mdef\u001b[39;00m\u001b[38;5;250m \u001b[39m\u001b[38;5;21mmaze_generator\u001b[39m(\n\u001b[1;32m      7\u001b[0m     dims: \u001b[38;5;28mtuple\u001b[39m[\u001b[38;5;28mint\u001b[39m, \u001b[38;5;28mint\u001b[39m], min_dist: \u001b[38;5;28mint\u001b[39m \u001b[38;5;241m=\u001b[39m \u001b[38;5;241m3\u001b[39m, depth: \u001b[38;5;28mint\u001b[39m \u001b[38;5;241m=\u001b[39m \u001b[38;5;241m3\u001b[39m, smoothness: \u001b[38;5;28mint\u001b[39m \u001b[38;5;241m=\u001b[39m \u001b[38;5;241m1\u001b[39m\n\u001b[1;32m      8\u001b[0m ) \u001b[38;5;241m-\u001b[39m\u001b[38;5;241m>\u001b[39m \u001b[38;5;28mlist\u001b[39m[\u001b[38;5;28mlist\u001b[39m[\u001b[38;5;28mint\u001b[39m]]:\n\u001b[0;32m----> 9\u001b[0m     maze \u001b[38;5;241m=\u001b[39m \u001b[43m_maze_generator_attempt\u001b[49m\u001b[43m(\u001b[49m\u001b[43mdims\u001b[49m\u001b[43m,\u001b[49m\u001b[43m \u001b[49m\u001b[43mmin_dist\u001b[49m\u001b[43m,\u001b[49m\u001b[43m \u001b[49m\u001b[43mdepth\u001b[49m\u001b[43m,\u001b[49m\u001b[43m \u001b[49m\u001b[43msmoothness\u001b[49m\u001b[43m)\u001b[49m\n\u001b[1;32m     10\u001b[0m     \u001b[38;5;28;01mwhile\u001b[39;00m _verify_maze(maze):\n\u001b[1;32m     11\u001b[0m         maze \u001b[38;5;241m=\u001b[39m _maze_generator_attempt(dims, min_dist, depth, smoothness)\n",
      "File \u001b[0;32m~/workspace/code/projects/test_agrobot_rl_2d/util/maze_generator.py:99\u001b[0m, in \u001b[0;36m_maze_generator_attempt\u001b[0;34m(dims, min_dist, depth, smoothness)\u001b[0m\n\u001b[1;32m     96\u001b[0m         rx, ry \u001b[38;5;241m=\u001b[39m random\u001b[38;5;241m.\u001b[39mrandint(\u001b[38;5;241m0\u001b[39m, x \u001b[38;5;241m-\u001b[39m \u001b[38;5;241m1\u001b[39m), random\u001b[38;5;241m.\u001b[39mrandint(\u001b[38;5;241m0\u001b[39m, y \u001b[38;5;241m-\u001b[39m \u001b[38;5;241m1\u001b[39m)\n\u001b[1;32m     97\u001b[0m     maze[rx][ry] \u001b[38;5;241m=\u001b[39m tile_value\n\u001b[0;32m---> 99\u001b[0m \u001b[43m_place_random_tile\u001b[49m\u001b[43m(\u001b[49m\u001b[43mGridTile\u001b[49m\u001b[38;5;241;43m.\u001b[39;49m\u001b[43mROBOT\u001b[49m\u001b[38;5;241;43m.\u001b[39;49m\u001b[43mvalue\u001b[49m\u001b[43m)\u001b[49m\n\u001b[1;32m    100\u001b[0m _place_random_tile(GridTile\u001b[38;5;241m.\u001b[39mTARGET\u001b[38;5;241m.\u001b[39mvalue)\n\u001b[1;32m    101\u001b[0m \u001b[38;5;28;01mreturn\u001b[39;00m maze\n",
      "File \u001b[0;32m~/workspace/code/projects/test_agrobot_rl_2d/util/maze_generator.py:95\u001b[0m, in \u001b[0;36m_maze_generator_attempt.<locals>._place_random_tile\u001b[0;34m(tile_value)\u001b[0m\n\u001b[1;32m     93\u001b[0m \u001b[38;5;28;01mdef\u001b[39;00m\u001b[38;5;250m \u001b[39m\u001b[38;5;21m_place_random_tile\u001b[39m(tile_value: \u001b[38;5;28mint\u001b[39m) \u001b[38;5;241m-\u001b[39m\u001b[38;5;241m>\u001b[39m \u001b[38;5;28;01mNone\u001b[39;00m:\n\u001b[1;32m     94\u001b[0m     rx, ry \u001b[38;5;241m=\u001b[39m random\u001b[38;5;241m.\u001b[39mrandint(\u001b[38;5;241m0\u001b[39m, x \u001b[38;5;241m-\u001b[39m \u001b[38;5;241m1\u001b[39m), random\u001b[38;5;241m.\u001b[39mrandint(\u001b[38;5;241m0\u001b[39m, y \u001b[38;5;241m-\u001b[39m \u001b[38;5;241m1\u001b[39m)\n\u001b[0;32m---> 95\u001b[0m     \u001b[38;5;28;01mwhile\u001b[39;00m maze[rx][ry] \u001b[38;5;241m!=\u001b[39m \u001b[43mGridTile\u001b[49m\u001b[38;5;241;43m.\u001b[39;49m\u001b[43mFLOOR\u001b[49m\u001b[38;5;241;43m.\u001b[39;49m\u001b[43mvalue\u001b[49m:\n\u001b[1;32m     96\u001b[0m         rx, ry \u001b[38;5;241m=\u001b[39m random\u001b[38;5;241m.\u001b[39mrandint(\u001b[38;5;241m0\u001b[39m, x \u001b[38;5;241m-\u001b[39m \u001b[38;5;241m1\u001b[39m), random\u001b[38;5;241m.\u001b[39mrandint(\u001b[38;5;241m0\u001b[39m, y \u001b[38;5;241m-\u001b[39m \u001b[38;5;241m1\u001b[39m)\n\u001b[1;32m     97\u001b[0m     maze[rx][ry] \u001b[38;5;241m=\u001b[39m tile_value\n",
      "File \u001b[0;32m~/.pyenv/versions/3.11.11/lib/python3.11/enum.py:193\u001b[0m, in \u001b[0;36mproperty.__get__\u001b[0;34m(self, instance, ownerclass)\u001b[0m\n\u001b[1;32m    184\u001b[0m \u001b[38;5;28;01mclass\u001b[39;00m\u001b[38;5;250m \u001b[39m\u001b[38;5;21;01mproperty\u001b[39;00m(DynamicClassAttribute):\n\u001b[1;32m    185\u001b[0m \u001b[38;5;250m    \u001b[39m\u001b[38;5;124;03m\"\"\"\u001b[39;00m\n\u001b[1;32m    186\u001b[0m \u001b[38;5;124;03m    This is a descriptor, used to define attributes that act differently\u001b[39;00m\n\u001b[1;32m    187\u001b[0m \u001b[38;5;124;03m    when accessed through an enum member and through an enum class.\u001b[39;00m\n\u001b[0;32m   (...)\u001b[0m\n\u001b[1;32m    190\u001b[0m \u001b[38;5;124;03m    a corresponding enum member.\u001b[39;00m\n\u001b[1;32m    191\u001b[0m \u001b[38;5;124;03m    \"\"\"\u001b[39;00m\n\u001b[0;32m--> 193\u001b[0m     \u001b[38;5;28;01mdef\u001b[39;00m\u001b[38;5;250m \u001b[39m\u001b[38;5;21m__get__\u001b[39m(\u001b[38;5;28mself\u001b[39m, instance, ownerclass\u001b[38;5;241m=\u001b[39m\u001b[38;5;28;01mNone\u001b[39;00m):\n\u001b[1;32m    194\u001b[0m         \u001b[38;5;28;01mif\u001b[39;00m instance \u001b[38;5;129;01mis\u001b[39;00m \u001b[38;5;28;01mNone\u001b[39;00m:\n\u001b[1;32m    195\u001b[0m             \u001b[38;5;28;01mtry\u001b[39;00m:\n",
      "\u001b[0;31mKeyboardInterrupt\u001b[0m: "
     ]
    }
   ],
   "source": [
    "TIMESTEPS = 10000000\n",
    "env = gym.make(\"RobotObstacleEnv-v0\")\n",
    "\n",
    "# model = PPO.load(\"weights/ppo_model\")\n",
    "model = PPO(\"MultiInputPolicy\", env)\n",
    "model.learn(total_timesteps=TIMESTEPS/1000)"
   ]
  },
  {
   "cell_type": "code",
   "execution_count": 1,
   "metadata": {},
   "outputs": [
    {
     "ename": "KeyboardInterrupt",
     "evalue": "",
     "output_type": "error",
     "traceback": [
      "\u001b[0;31m---------------------------------------------------------------------------\u001b[0m",
      "\u001b[0;31mKeyboardInterrupt\u001b[0m                         Traceback (most recent call last)",
      "Cell \u001b[0;32mIn[1], line 3\u001b[0m\n\u001b[1;32m      1\u001b[0m \u001b[38;5;28;01mfrom\u001b[39;00m\u001b[38;5;250m \u001b[39m\u001b[38;5;21;01mutil\u001b[39;00m\u001b[38;5;21;01m.\u001b[39;00m\u001b[38;5;21;01mmaze_generator\u001b[39;00m\u001b[38;5;250m \u001b[39m\u001b[38;5;28;01mimport\u001b[39;00m maze_generator\n\u001b[0;32m----> 3\u001b[0m \u001b[43mmaze_generator\u001b[49m\u001b[43m(\u001b[49m\u001b[43m(\u001b[49m\u001b[38;5;241;43m8\u001b[39;49m\u001b[43m,\u001b[49m\u001b[43m \u001b[49m\u001b[38;5;241;43m8\u001b[39;49m\u001b[43m)\u001b[49m\u001b[43m)\u001b[49m\n",
      "File \u001b[0;32m~/workspace/code/projects/test_agrobot_rl_2d/util/maze_generator.py:9\u001b[0m, in \u001b[0;36mmaze_generator\u001b[0;34m(dims, min_dist, depth, smoothness)\u001b[0m\n\u001b[1;32m      6\u001b[0m \u001b[38;5;28;01mdef\u001b[39;00m\u001b[38;5;250m \u001b[39m\u001b[38;5;21mmaze_generator\u001b[39m(\n\u001b[1;32m      7\u001b[0m     dims: \u001b[38;5;28mtuple\u001b[39m[\u001b[38;5;28mint\u001b[39m, \u001b[38;5;28mint\u001b[39m], min_dist: \u001b[38;5;28mint\u001b[39m \u001b[38;5;241m=\u001b[39m \u001b[38;5;241m3\u001b[39m, depth: \u001b[38;5;28mint\u001b[39m \u001b[38;5;241m=\u001b[39m \u001b[38;5;241m3\u001b[39m, smoothness: \u001b[38;5;28mint\u001b[39m \u001b[38;5;241m=\u001b[39m \u001b[38;5;241m1\u001b[39m\n\u001b[1;32m      8\u001b[0m ) \u001b[38;5;241m-\u001b[39m\u001b[38;5;241m>\u001b[39m \u001b[38;5;28mlist\u001b[39m[\u001b[38;5;28mlist\u001b[39m[\u001b[38;5;28mint\u001b[39m]]:\n\u001b[0;32m----> 9\u001b[0m     maze \u001b[38;5;241m=\u001b[39m \u001b[43m_maze_generator_attempt\u001b[49m\u001b[43m(\u001b[49m\u001b[43mdims\u001b[49m\u001b[43m,\u001b[49m\u001b[43m \u001b[49m\u001b[43mmin_dist\u001b[49m\u001b[43m,\u001b[49m\u001b[43m \u001b[49m\u001b[43mdepth\u001b[49m\u001b[43m,\u001b[49m\u001b[43m \u001b[49m\u001b[43msmoothness\u001b[49m\u001b[43m)\u001b[49m\n\u001b[1;32m     10\u001b[0m     \u001b[38;5;28;01mwhile\u001b[39;00m _verify_maze(maze):\n\u001b[1;32m     11\u001b[0m         maze \u001b[38;5;241m=\u001b[39m _maze_generator_attempt(dims, min_dist, depth, smoothness)\n",
      "File \u001b[0;32m~/workspace/code/projects/test_agrobot_rl_2d/util/maze_generator.py:99\u001b[0m, in \u001b[0;36m_maze_generator_attempt\u001b[0;34m(dims, min_dist, depth, smoothness)\u001b[0m\n\u001b[1;32m     96\u001b[0m         rx, ry \u001b[38;5;241m=\u001b[39m random\u001b[38;5;241m.\u001b[39mrandint(\u001b[38;5;241m0\u001b[39m, x \u001b[38;5;241m-\u001b[39m \u001b[38;5;241m1\u001b[39m), random\u001b[38;5;241m.\u001b[39mrandint(\u001b[38;5;241m0\u001b[39m, y \u001b[38;5;241m-\u001b[39m \u001b[38;5;241m1\u001b[39m)\n\u001b[1;32m     97\u001b[0m     maze[rx][ry] \u001b[38;5;241m=\u001b[39m tile_value\n\u001b[0;32m---> 99\u001b[0m \u001b[43m_place_random_tile\u001b[49m\u001b[43m(\u001b[49m\u001b[43mGridTile\u001b[49m\u001b[38;5;241;43m.\u001b[39;49m\u001b[43mROBOT\u001b[49m\u001b[38;5;241;43m.\u001b[39;49m\u001b[43mvalue\u001b[49m\u001b[43m)\u001b[49m\n\u001b[1;32m    100\u001b[0m _place_random_tile(GridTile\u001b[38;5;241m.\u001b[39mTARGET\u001b[38;5;241m.\u001b[39mvalue)\n\u001b[1;32m    101\u001b[0m \u001b[38;5;28;01mreturn\u001b[39;00m maze\n",
      "File \u001b[0;32m~/workspace/code/projects/test_agrobot_rl_2d/util/maze_generator.py:96\u001b[0m, in \u001b[0;36m_maze_generator_attempt.<locals>._place_random_tile\u001b[0;34m(tile_value)\u001b[0m\n\u001b[1;32m     94\u001b[0m rx, ry \u001b[38;5;241m=\u001b[39m random\u001b[38;5;241m.\u001b[39mrandint(\u001b[38;5;241m0\u001b[39m, x \u001b[38;5;241m-\u001b[39m \u001b[38;5;241m1\u001b[39m), random\u001b[38;5;241m.\u001b[39mrandint(\u001b[38;5;241m0\u001b[39m, y \u001b[38;5;241m-\u001b[39m \u001b[38;5;241m1\u001b[39m)\n\u001b[1;32m     95\u001b[0m \u001b[38;5;28;01mwhile\u001b[39;00m maze[rx][ry] \u001b[38;5;241m!=\u001b[39m GridTile\u001b[38;5;241m.\u001b[39mFLOOR\u001b[38;5;241m.\u001b[39mvalue:\n\u001b[0;32m---> 96\u001b[0m     rx, ry \u001b[38;5;241m=\u001b[39m \u001b[43mrandom\u001b[49m\u001b[38;5;241;43m.\u001b[39;49m\u001b[43mrandint\u001b[49m\u001b[43m(\u001b[49m\u001b[38;5;241;43m0\u001b[39;49m\u001b[43m,\u001b[49m\u001b[43m \u001b[49m\u001b[43mx\u001b[49m\u001b[43m \u001b[49m\u001b[38;5;241;43m-\u001b[39;49m\u001b[43m \u001b[49m\u001b[38;5;241;43m1\u001b[39;49m\u001b[43m)\u001b[49m, random\u001b[38;5;241m.\u001b[39mrandint(\u001b[38;5;241m0\u001b[39m, y \u001b[38;5;241m-\u001b[39m \u001b[38;5;241m1\u001b[39m)\n\u001b[1;32m     97\u001b[0m maze[rx][ry] \u001b[38;5;241m=\u001b[39m tile_value\n",
      "File \u001b[0;32m~/.pyenv/versions/3.11.11/lib/python3.11/random.py:362\u001b[0m, in \u001b[0;36mRandom.randint\u001b[0;34m(self, a, b)\u001b[0m\n\u001b[1;32m    358\u001b[0m \u001b[38;5;28;01mdef\u001b[39;00m\u001b[38;5;250m \u001b[39m\u001b[38;5;21mrandint\u001b[39m(\u001b[38;5;28mself\u001b[39m, a, b):\n\u001b[1;32m    359\u001b[0m \u001b[38;5;250m    \u001b[39m\u001b[38;5;124;03m\"\"\"Return random integer in range [a, b], including both end points.\u001b[39;00m\n\u001b[1;32m    360\u001b[0m \u001b[38;5;124;03m    \"\"\"\u001b[39;00m\n\u001b[0;32m--> 362\u001b[0m     \u001b[38;5;28;01mreturn\u001b[39;00m \u001b[38;5;28;43mself\u001b[39;49m\u001b[38;5;241;43m.\u001b[39;49m\u001b[43mrandrange\u001b[49m\u001b[43m(\u001b[49m\u001b[43ma\u001b[49m\u001b[43m,\u001b[49m\u001b[43m \u001b[49m\u001b[43mb\u001b[49m\u001b[38;5;241;43m+\u001b[39;49m\u001b[38;5;241;43m1\u001b[39;49m\u001b[43m)\u001b[49m\n",
      "File \u001b[0;32m~/.pyenv/versions/3.11.11/lib/python3.11/random.py:344\u001b[0m, in \u001b[0;36mRandom.randrange\u001b[0;34m(self, start, stop, step)\u001b[0m\n\u001b[1;32m    342\u001b[0m \u001b[38;5;28;01mif\u001b[39;00m istep \u001b[38;5;241m==\u001b[39m \u001b[38;5;241m1\u001b[39m:\n\u001b[1;32m    343\u001b[0m     \u001b[38;5;28;01mif\u001b[39;00m width \u001b[38;5;241m>\u001b[39m \u001b[38;5;241m0\u001b[39m:\n\u001b[0;32m--> 344\u001b[0m         \u001b[38;5;28;01mreturn\u001b[39;00m istart \u001b[38;5;241m+\u001b[39m \u001b[38;5;28;43mself\u001b[39;49m\u001b[38;5;241;43m.\u001b[39;49m\u001b[43m_randbelow\u001b[49m\u001b[43m(\u001b[49m\u001b[43mwidth\u001b[49m\u001b[43m)\u001b[49m\n\u001b[1;32m    345\u001b[0m     \u001b[38;5;28;01mraise\u001b[39;00m \u001b[38;5;167;01mValueError\u001b[39;00m(\u001b[38;5;124m\"\u001b[39m\u001b[38;5;124mempty range for randrange() (\u001b[39m\u001b[38;5;132;01m%d\u001b[39;00m\u001b[38;5;124m, \u001b[39m\u001b[38;5;132;01m%d\u001b[39;00m\u001b[38;5;124m, \u001b[39m\u001b[38;5;132;01m%d\u001b[39;00m\u001b[38;5;124m)\u001b[39m\u001b[38;5;124m\"\u001b[39m \u001b[38;5;241m%\u001b[39m (istart, istop, width))\n\u001b[1;32m    347\u001b[0m \u001b[38;5;66;03m# Non-unit step argument supplied.\u001b[39;00m\n",
      "File \u001b[0;32m~/.pyenv/versions/3.11.11/lib/python3.11/random.py:242\u001b[0m, in \u001b[0;36mRandom._randbelow_with_getrandbits\u001b[0;34m(self, n)\u001b[0m\n\u001b[1;32m    240\u001b[0m r \u001b[38;5;241m=\u001b[39m getrandbits(k)  \u001b[38;5;66;03m# 0 <= r < 2**k\u001b[39;00m\n\u001b[1;32m    241\u001b[0m \u001b[38;5;28;01mwhile\u001b[39;00m r \u001b[38;5;241m>\u001b[39m\u001b[38;5;241m=\u001b[39m n:\n\u001b[0;32m--> 242\u001b[0m     r \u001b[38;5;241m=\u001b[39m getrandbits(k)\n\u001b[1;32m    243\u001b[0m \u001b[38;5;28;01mreturn\u001b[39;00m r\n",
      "\u001b[0;31mKeyboardInterrupt\u001b[0m: "
     ]
    }
   ],
   "source": [
    "from util.maze_generator import maze_generator\n",
    "\n",
    "maze_generator((10, 10))"
   ]
  },
  {
   "cell_type": "code",
   "execution_count": 16,
   "metadata": {},
   "outputs": [],
   "source": [
    "obs, _info = env.reset()\n",
    "for _ in range(1000):\n",
    "    action, _states = model.predict(obs)\n",
    "    obs, reward, term, trunc, info = env.step(action)\n",
    "    done = term or trunc\n",
    "    if done:\n",
    "        obs, _info = env.reset()"
   ]
  },
  {
   "cell_type": "code",
   "execution_count": 14,
   "metadata": {},
   "outputs": [],
   "source": [
    "model.save(\"weights/ppo_model\")"
   ]
  }
 ],
 "metadata": {
  "kernelspec": {
   "display_name": "Python 3",
   "language": "python",
   "name": "python3"
  },
  "language_info": {
   "codemirror_mode": {
    "name": "ipython",
    "version": 3
   },
   "file_extension": ".py",
   "mimetype": "text/x-python",
   "name": "python",
   "nbconvert_exporter": "python",
   "pygments_lexer": "ipython3",
   "version": "3.11.11"
  }
 },
 "nbformat": 4,
 "nbformat_minor": 2
}
