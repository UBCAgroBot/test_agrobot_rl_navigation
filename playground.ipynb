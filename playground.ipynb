{
 "cells": [
  {
   "cell_type": "code",
   "execution_count": 26,
   "metadata": {},
   "outputs": [],
   "source": [
    "render_dict = ['.', 'P', 'T', '#', 'X']\n",
    "def render_maze(maze: list[list[float]]) -> list[str]:\n",
    "    ret = []\n",
    "    for x in maze:\n",
    "        row = \"\"\n",
    "        for y in x:\n",
    "            row += render_dict[y]\n",
    "        ret.append(row)\n",
    "    return ret"
   ]
  },
  {
   "cell_type": "code",
   "execution_count": 56,
   "metadata": {},
   "outputs": [
    {
     "name": "stdout",
     "output_type": "stream",
     "text": [
      "The autoreload extension is already loaded. To reload it, use:\n",
      "  %reload_ext autoreload\n",
      "[[None, None, None, (1, 4), (1, 5), (0, 6), (1, 7), (0, 6), None, None, None, None, None, None], [None, None, (1, 3), (0, 3), (0, 5), (1, 6), (0, 7), (2, 8), (0, 7), (2, 9), None, None, None, None], [None, None, None, None, None, None, (1, 7), (3, 7), (3, 8), (2, 8), None, None, None, None], [None, None, None, None, None, (3, 6), (2, 6), (3, 6), (4, 9), (2, 9), None, None, None, (4, 13)], [None, None, None, None, None, None, None, None, (5, 9), (5, 10), None, (4, 12), (5, 13), (5, 12)], [None, None, None, None, None, None, None, None, None, (6, 9), (4, 11), (5, 12), (4, 11), None], [None, None, None, None, None, None, None, None, (5, 9), (5, 10), (6, 11), (5, 11), (6, 13), (5, 12)], [None, None, None, None, None, None, None, None, None, None, None, None, None, None]]\n"
     ]
    },
    {
     "data": {
      "text/plain": [
       "['###...T.######',\n",
       " '##.....X..####',\n",
       " '######..X.####',\n",
       " '#####...X.###.',\n",
       " '########.X#XX.',\n",
       " '#########.X..P',\n",
       " '########......',\n",
       " '##############']"
      ]
     },
     "execution_count": 56,
     "metadata": {},
     "output_type": "execute_result"
    }
   ],
   "source": [
    "%load_ext autoreload\n",
    "%autoreload 2\n",
    "\n",
    "from util.maze_generator import maze_generator\n",
    "from util.a_star_search import a_star_pathfinding\n",
    "from util.a_star_search import _find_item\n",
    "\n",
    "maze = maze_generator((8, 14))\n",
    "\n",
    "path = a_star_pathfinding(maze)\n",
    "startx, starty = _find_item(1, maze)\n",
    "endx, endy = _find_item(2, maze)\n",
    "for x, y in path:\n",
    "    if x == startx and y == starty:\n",
    "        continue\n",
    "    if x == endx and y == endy:\n",
    "        continue\n",
    "    maze[x][y] = 4\n",
    "\n",
    "render_maze(maze)"
   ]
  },
  {
   "cell_type": "code",
   "execution_count": 40,
   "metadata": {},
   "outputs": [
    {
     "name": "stdout",
     "output_type": "stream",
     "text": [
      "( ,   )( ,   )( ,   )( ,   )( ,   )( ,   )( ,   )(0, 6) (0, 7) ( ,   )( ,   )( ,   )( ,   )( ,   )\n",
      "( ,   )( ,   )( ,   )( ,   )( ,   )( ,   )(0, 7) (1, 6) (1, 7) (1, 8) (1, 9) (1, 10)(2, 13)(2, 12)\n",
      "( ,   )( ,   )( ,   )(3, 3) (3, 5) ( ,   )(1, 7) (2, 6) (2, 7) (2, 8) ( ,   )( ,   )(1, 11)(1, 13)\n",
      "( ,   )( ,   )( ,   )(2, 4) (2, 3) (2, 6) (3, 5) (3, 6) (3, 7) (3, 8) (3, 9) ( ,   )(2, 13)(3, 12)\n",
      "( ,   )(4, 2) (3, 3) (4, 2) (4, 3) ( ,   )( ,   )(3, 8) ( ,   )(3, 10)( ,   )(3, 10)(4, 11)(4, 12)\n",
      "(4, 1) (5, 0) ( ,   )(4, 4) ( ,   )( ,   )( ,   )( ,   )( ,   )( ,   )( ,   )( ,   )(4, 13)(5, 12)\n",
      "(5, 1) (6, 0) ( ,   )( ,   )( ,   )( ,   )( ,   )( ,   )( ,   )( ,   )( ,   )( ,   )( ,   )( ,   )\n",
      "(6, 1) ( ,   )( ,   )( ,   )( ,   )( ,   )( ,   )( ,   )( ,   )( ,   )( ,   )( ,   )( ,   )( ,   )\n"
     ]
    }
   ],
   "source": [
    "t = [[None, None, None, None, None, None, None, (0, 6), (0, 7), None, None, None, None, None], \n",
    "[None, None, None, None, None, None, (0, 7), (1, 6), (1, 7), (1, 8), (1, 9), (1, 10), (2, 13), (2, 12)], \n",
    "[None, None, None, (3, 3), (3, 5), None, (1, 7), (2, 6), (2, 7), (2, 8), None, None, (1, 11), (1, 13)], \n",
    "[None, None, None, (2, 4), (2, 3), (2, 6), (3, 5), (3, 6), (3, 7), (3, 8), (3, 9), None, (2, 13), (3, 12)], \n",
    "[None, (4, 2), (3, 3), (4, 2), (4, 3), None, None, (3, 8), None, (3, 10), None, (3, 10), (4, 11), (4, 12)], \n",
    "[(4, 1), (5, 0), None, (4, 4), None, None, None, None, None, None, None, None, (4, 13), (5, 12)], \n",
    "[(5, 1), (6, 0), None, None, None, None, None, None, None, None, None, None, None, None], \n",
    "[(6, 1), None, None, None, None, None, None, None, None, None, None, None, None, None]]\n",
    "\n",
    "i = 0\n",
    "for x in t:\n",
    "    s = \"\"\n",
    "    for y in x: \n",
    "        if y is None:\n",
    "            s += \"( ,   )\"\n",
    "        else: \n",
    "            s += f\"{str(y):<{7}}\"\n",
    "    print(s)\n",
    "\n",
    "#    012345678\n",
    "# 0['######XX.#####',\n",
    "# 1 '######XX......',\n",
    "# 2 '###..#X...##..',\n",
    "# 3 '###..T.....#..',\n",
    "# 4 '#....##P#.#...',\n",
    "# 5 '..#.########..',\n",
    "# 6 '..############',\n",
    "# 7 '.#############']\n",
    "\n",
    "#        0      1      2      3      4      5      6     7      8       9\n",
    "# 0 ( ,   )( ,   )( ,   )( ,   )( ,   )( ,   )( ,   )(0, 6) (0, 7) ( ,   )( ,   )( ,   )( ,   )( ,   )\n",
    "# 1 ( ,   )( ,   )( ,   )( ,   )( ,   )( ,   )(0, 7) (1, 6) (1, 7) (1, 8) (1, 9) (1, 10)(2, 13)(2, 12)\n",
    "# 2 ( ,   )( ,   )( ,   )(3, 3) (3, 5) ( ,   )(1, 7) (2, 6) (2, 7) (2, 8) ( ,   )( ,   )(1, 11)(1, 13)\n",
    "# 3 ( ,   )( ,   )( ,   )(2, 4) (2, 3) (2, 6) (3, 5) (3, 6) (3, 7) (3, 8) (3, 9) ( ,   )(2, 13)(3, 12)\n",
    "# 4 ( ,   )(4, 2) (3, 3) (4, 2) (4, 3) ( ,   )( ,   )(3, 8) ( ,   )(3, 10)( ,   )(3, 10)(4, 11)(4, 12)\n",
    "# 5 (4, 1) (5, 0) ( ,   )(4, 4) ( ,   )( ,   )( ,   )( ,   )( ,   )( ,   )( ,   )( ,   )(4, 13)(5, 12)\n",
    "# 6 (5, 1) (6, 0) ( ,   )( ,   )( ,   )( ,   )( ,   )( ,   )( ,   )( ,   )( ,   )( ,   )( ,   )( ,   )\n",
    "# 7 (6, 1) ( ,   )( ,   )( ,   )( ,   )( ,   )( ,   )( ,   )( ,   )( ,   )( ,   )( ,   )( ,   )( ,   )"
   ]
  },
  {
   "cell_type": "code",
   "execution_count": 45,
   "metadata": {},
   "outputs": [
    {
     "name": "stdout",
     "output_type": "stream",
     "text": [
      "[[None, (0, 0), (0, 1), None, (1, 4), (1, 6), (1, 5), (1, 8), (1, 7)], [(0, 1), (1, 0), (1, 1), None, (0, 5), (0, 4), (2, 7), (0, 6), (0, 8)], [(1, 1), (1, 2), (2, 1), None, None, None, None, (3, 6), (1, 8)], [(2, 1), (2, 2), (3, 1), None, (4, 3), (3, 4), (3, 5), (2, 8), (3, 7)], [(3, 1), (4, 0), (4, 1), (4, 2), (4, 3), None, None, None, (3, 7)]]\n"
     ]
    },
    {
     "data": {
      "text/plain": [
       "['...#.T...', '.PX#..X..', '.XX####X.', '.X.#XXX..', 'XXXX.###.']"
      ]
     },
     "execution_count": 45,
     "metadata": {},
     "output_type": "execute_result"
    }
   ],
   "source": [
    "ENV_WALLS = [\n",
    "    [0, 0, 0, 3, 0, 2, 0, 0, 0],\n",
    "    [0, 1, 0, 3, 0, 0, 0, 0, 0],\n",
    "    [0, 0, 0, 3, 3, 3, 3, 0, 0],\n",
    "    [0, 0, 0, 3, 0, 0, 0, 0, 0],\n",
    "    [0, 0, 0, 0, 0, 3, 3, 3, 0],\n",
    "]\n",
    "\n",
    "path = a_star_pathfinding(ENV_WALLS)\n",
    "startx, starty = _find_item(1, ENV_WALLS)\n",
    "endx, endy = _find_item(2, ENV_WALLS)\n",
    "for x, y in path:\n",
    "    if x == startx and y == starty:\n",
    "        continue\n",
    "    if x == endx and y == endy:\n",
    "        continue\n",
    "    ENV_WALLS[x][y] = 4\n",
    "\n",
    "render_maze(ENV_WALLS)"
   ]
  },
  {
   "cell_type": "code",
   "execution_count": null,
   "metadata": {},
   "outputs": [],
   "source": []
  }
 ],
 "metadata": {
  "kernelspec": {
   "display_name": ".venv",
   "language": "python",
   "name": "python3"
  },
  "language_info": {
   "codemirror_mode": {
    "name": "ipython",
    "version": 3
   },
   "file_extension": ".py",
   "mimetype": "text/x-python",
   "name": "python",
   "nbconvert_exporter": "python",
   "pygments_lexer": "ipython3",
   "version": "3.11.11"
  }
 },
 "nbformat": 4,
 "nbformat_minor": 2
}
