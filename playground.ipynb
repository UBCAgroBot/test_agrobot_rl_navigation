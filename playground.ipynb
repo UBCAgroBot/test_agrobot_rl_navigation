{
 "cells": [
  {
   "cell_type": "code",
   "execution_count": 7,
   "metadata": {},
   "outputs": [],
   "source": [
    "render_dict = ['.', 'P', 'T', '#']\n",
    "def render_maze(maze: list[list[float]]) -> list[str]:\n",
    "    ret = []\n",
    "    for x in maze:\n",
    "        row = \"\"\n",
    "        for y in x:\n",
    "            row += render_dict[y]\n",
    "        ret.append(row)\n",
    "    return ret"
   ]
  },
  {
   "cell_type": "code",
   "execution_count": 31,
   "metadata": {},
   "outputs": [
    {
     "data": {
      "text/plain": [
       "['##########',\n",
       " '##########',\n",
       " '##########',\n",
       " '##########',\n",
       " '#######..#',\n",
       " '######...#',\n",
       " '#######P..',\n",
       " '#######T..',\n",
       " '####......',\n",
       " '####.....#']"
      ]
     },
     "execution_count": 31,
     "metadata": {},
     "output_type": "execute_result"
    }
   ],
   "source": [
    "from util.maze_generator import maze_generator\n",
    "\n",
    "maze = maze_generator((10, 10))\n",
    "render_maze(maze)"
   ]
  }
 ],
 "metadata": {
  "kernelspec": {
   "display_name": ".venv",
   "language": "python",
   "name": "python3"
  },
  "language_info": {
   "codemirror_mode": {
    "name": "ipython",
    "version": 3
   },
   "file_extension": ".py",
   "mimetype": "text/x-python",
   "name": "python",
   "nbconvert_exporter": "python",
   "pygments_lexer": "ipython3",
   "version": "3.11.11"
  }
 },
 "nbformat": 4,
 "nbformat_minor": 2
}
