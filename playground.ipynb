{
 "cells": [
  {
   "cell_type": "code",
   "execution_count": 21,
   "metadata": {},
   "outputs": [],
   "source": [
    "render_dict = ['.', 'P', 'T', '#', 'X']\n",
    "def render_maze(maze: list[list[float]]) -> list[str]:\n",
    "    ret = []\n",
    "    for x in maze:\n",
    "        row = \"\"\n",
    "        for y in x:\n",
    "            row += render_dict[y]\n",
    "        ret.append(row)\n",
    "    return ret"
   ]
  },
  {
   "cell_type": "code",
   "execution_count": 27,
   "metadata": {},
   "outputs": [
    {
     "name": "stdout",
     "output_type": "stream",
     "text": [
      "The autoreload extension is already loaded. To reload it, use:\n",
      "  %reload_ext autoreload\n",
      "\n",
      "[[None, None, None, None, None, None, None, None, None, None], [None, None, None, None, (1, 3), (1, 4), (1, 5), None, None, None], [None, None, None, (1, 4), (2, 3), (1, 6), (2, 5), None, None, None], [None, None, (2, 3), (3, 2), (3, 3), (3, 4), (3, 5), None, None, None], [None, None, None, (3, 4), (4, 3), (4, 4), (4, 5), (4, 6), None, None], [None, None, None, (4, 4), (5, 3), (5, 4), (5, 5), None, None, None], [(7, 1), None, None, (5, 4), (6, 3), (5, 6), (6, 5), None, None, None], [(6, 0), (7, 2), (6, 3), (7, 2), (6, 5), (7, 4), (7, 5), None, None, None], [(7, 1), (8, 0), (8, 1), (8, 2), (8, 3), (8, 4), (8, 5), None, None, None], [None, None, (8, 3), (9, 2), (9, 3), (9, 4), None, None, None, None]]\n"
     ]
    },
    {
     "data": {
      "text/plain": [
       "['##########',\n",
       " '###XX..###',\n",
       " '###X...###',\n",
       " '##XXX..###',\n",
       " '###XX...##',\n",
       " '###XXXX###',\n",
       " '.##..T.###',\n",
       " '.......###',\n",
       " '......P###',\n",
       " '##....####']"
      ]
     },
     "execution_count": 27,
     "metadata": {},
     "output_type": "execute_result"
    }
   ],
   "source": [
    "%load_ext autoreload\n",
    "%autoreload 2\n",
    "\n",
    "from util.maze_generator import maze_generator\n",
    "from util.a_star_search import a_star_pathfinding\n",
    "from util.a_star_search import _find_item\n",
    "\n",
    "\n",
    "maze = maze_generator((10, 10))\n",
    "render_maze(maze)\n",
    "print()\n",
    "\n",
    "path = a_star_pathfinding(maze)\n",
    "startx, starty = _find_item(1, maze)\n",
    "endx, endy = _find_item(2, maze)\n",
    "for x, y in path:\n",
    "    if x == startx and y == starty:\n",
    "        continue\n",
    "    if x == endx and y == endy:\n",
    "        continue\n",
    "    maze[x][y] = 4\n",
    "\n",
    "render_maze(maze)\n"
   ]
  },
  {
   "cell_type": "code",
   "execution_count": null,
   "metadata": {},
   "outputs": [],
   "source": []
  }
 ],
 "metadata": {
  "kernelspec": {
   "display_name": ".venv",
   "language": "python",
   "name": "python3"
  },
  "language_info": {
   "codemirror_mode": {
    "name": "ipython",
    "version": 3
   },
   "file_extension": ".py",
   "mimetype": "text/x-python",
   "name": "python",
   "nbconvert_exporter": "python",
   "pygments_lexer": "ipython3",
   "version": "3.11.11"
  }
 },
 "nbformat": 4,
 "nbformat_minor": 2
}
