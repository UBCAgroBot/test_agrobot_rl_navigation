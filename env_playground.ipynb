{
 "cells": [
  {
   "cell_type": "code",
   "execution_count": 26,
   "metadata": {},
   "outputs": [],
   "source": [
    "render_dict = ['.', 'P', 'T', '#', 'X']\n",
    "def render_maze(maze: list[list[float]]) -> list[str]:\n",
    "    return [''.join([render_dict[y] for y in row]) for row in maze]"
   ]
  },
  {
   "cell_type": "code",
   "execution_count": null,
   "metadata": {},
   "outputs": [],
   "source": [
    "%load_ext autoreload\n",
    "%autoreload 2\n",
    "\n",
    "from util.maze_generator import maze_generator\n",
    "from util.astar_search import a_star_pathfinding\n",
    "from util.maze_helpers import find_unique_item, GridTile\n",
    "\n",
    "PATH = 4\n",
    "\n",
    "maze = maze_generator((8, 14))\n",
    "path = a_star_pathfinding(maze)\n",
    "\n",
    "startx, starty = find_unique_item(maze, GridTile.ROBOT.value)\n",
    "endx, endy = find_unique_item(maze, GridTile.TARGET.value)\n",
    "for x, y in path:\n",
    "    if x == startx and y == starty:\n",
    "        continue\n",
    "    if x == endx and y == endy:\n",
    "        continue\n",
    "    maze[x][y] = PATH\n",
    "\n",
    "render_maze(maze)"
   ]
  },
  {
   "cell_type": "code",
   "execution_count": null,
   "metadata": {},
   "outputs": [],
   "source": [
    "from stable_baselines3 import PPO\n",
    "import gymnasium as gym\n",
    "from continuous_env.robot_obstacles import RobotObstacles\n",
    "\n",
    "env = RobotObstacles(render_mode=\"human\")\n",
    "model = PPO.load(\"weights/ppo_model\")\n",
    "\n",
    "obs, _info = env.reset()\n",
    "avg_reward = 0\n",
    "num_envs = 1\n",
    "for _ in range(10000):\n",
    "    action, _states = model.predict(obs)\n",
    "    print(action)\n",
    "    obs, reward, term, trunc, info = env.step(action)\n",
    "    done = term or trunc\n",
    "    if done:\n",
    "        num_envs += 1\n",
    "        avg_reward += reward\n",
    "        obs, _info = env.reset()\n",
    "\n",
    "avg_reward /= num_envs\n",
    "avg_reward"
   ]
  },
  {
   "cell_type": "code",
   "execution_count": null,
   "metadata": {},
   "outputs": [],
   "source": []
  }
 ],
 "metadata": {
  "kernelspec": {
   "display_name": ".venv",
   "language": "python",
   "name": "python3"
  },
  "language_info": {
   "codemirror_mode": {
    "name": "ipython",
    "version": 3
   },
   "file_extension": ".py",
   "mimetype": "text/x-python",
   "name": "python",
   "nbconvert_exporter": "python",
   "pygments_lexer": "ipython3",
   "version": "3.11.11"
  }
 },
 "nbformat": 4,
 "nbformat_minor": 2
}
