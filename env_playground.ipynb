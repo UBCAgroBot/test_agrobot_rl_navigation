{
 "cells": [
  {
   "cell_type": "code",
   "execution_count": 26,
   "metadata": {},
   "outputs": [],
   "source": [
    "render_dict = ['.', 'P', 'T', '#', 'X']\n",
    "def render_maze(maze: list[list[float]]) -> list[str]:\n",
    "    return [''.join([render_dict[y] for y in row]) for row in maze]"
   ]
  },
  {
   "cell_type": "code",
   "execution_count": null,
   "metadata": {},
   "outputs": [],
   "source": [
    "%load_ext autoreload\n",
    "%autoreload 2\n",
    "\n",
    "from util.maze_generator import maze_generator\n",
    "from util.astar_search import a_star_pathfinding\n",
    "from util.maze_helpers import find_unique_item, GridTile\n",
    "\n",
    "PATH = 4\n",
    "\n",
    "maze = maze_generator((8, 14))\n",
    "path = a_star_pathfinding(maze)\n",
    "\n",
    "startx, starty = find_unique_item(maze, GridTile.ROBOT.value)\n",
    "endx, endy = find_unique_item(maze, GridTile.TARGET.value)\n",
    "for x, y in path:\n",
    "    if x == startx and y == starty:\n",
    "        continue\n",
    "    if x == endx and y == endy:\n",
    "        continue\n",
    "    maze[x][y] = PATH\n",
    "\n",
    "render_maze(maze)"
   ]
  },
  {
   "cell_type": "code",
   "execution_count": null,
   "metadata": {},
   "outputs": [],
   "source": [
    "from stable_baselines3 import PPO\n",
    "from continuous_env.robot_obstacles import RobotObstacles\n",
    "\n",
    "env = RobotObstacles(render_mode=\"human\")\n",
    "model = PPO.load(\"weights/ppo_model\")\n",
    "\n",
    "obs, _info = env.reset()\n",
    "avg_reward = 0\n",
    "num_envs = 1\n",
    "for _ in range(10000):\n",
    "    action, _states = model.predict(obs)\n",
    "    print(action)\n",
    "    obs, reward, term, trunc, info = env.step(action)\n",
    "    done = term or trunc\n",
    "    if done:\n",
    "        num_envs += 1\n",
    "        avg_reward += reward\n",
    "        obs, _info = env.reset()\n",
    "\n",
    "avg_reward /= num_envs\n",
    "avg_reward"
   ]
  },
  {
   "cell_type": "markdown",
   "metadata": {},
   "source": [
    "### testing A star"
   ]
  },
  {
   "cell_type": "code",
   "execution_count": 65,
   "metadata": {},
   "outputs": [
    {
     "name": "stdout",
     "output_type": "stream",
     "text": [
      "The autoreload extension is already loaded. To reload it, use:\n",
      "  %reload_ext autoreload\n"
     ]
    },
    {
     "ename": "AssertionError",
     "evalue": "Difference found, astar (42) versus dijkstras (34)",
     "output_type": "error",
     "traceback": [
      "\u001b[0;31m---------------------------------------------------------------------------\u001b[0m",
      "\u001b[0;31mAssertionError\u001b[0m                            Traceback (most recent call last)",
      "Cell \u001b[0;32mIn[65], line 18\u001b[0m\n\u001b[1;32m     15\u001b[0m     t \u001b[38;5;241m=\u001b[39m (prev[\u001b[38;5;241m0\u001b[39m] \u001b[38;5;241m-\u001b[39m i[\u001b[38;5;241m0\u001b[39m]) \u001b[38;5;241m*\u001b[39m (prev[\u001b[38;5;241m1\u001b[39m] \u001b[38;5;241m-\u001b[39m i[\u001b[38;5;241m1\u001b[39m])\n\u001b[1;32m     16\u001b[0m     astar_dist \u001b[38;5;241m+\u001b[39m\u001b[38;5;241m=\u001b[39m (\u001b[38;5;241m10\u001b[39m \u001b[38;5;28;01mif\u001b[39;00m t \u001b[38;5;241m==\u001b[39m \u001b[38;5;241m0\u001b[39m \u001b[38;5;28;01melse\u001b[39;00m \u001b[38;5;241m14\u001b[39m)\n\u001b[0;32m---> 18\u001b[0m \u001b[38;5;28;01massert\u001b[39;00m \u001b[38;5;28mabs\u001b[39m(astar_dist \u001b[38;5;241m-\u001b[39m dist) \u001b[38;5;241m<\u001b[39m \u001b[38;5;241m0.0001\u001b[39m, \u001b[38;5;124mf\u001b[39m\u001b[38;5;124m\"\u001b[39m\u001b[38;5;124mDifference found, astar (\u001b[39m\u001b[38;5;132;01m{\u001b[39;00mastar_dist\u001b[38;5;132;01m}\u001b[39;00m\u001b[38;5;124m) versus dijkstras (\u001b[39m\u001b[38;5;132;01m{\u001b[39;00mdist\u001b[38;5;132;01m}\u001b[39;00m\u001b[38;5;124m)\u001b[39m\u001b[38;5;124m\"\u001b[39m\n",
      "\u001b[0;31mAssertionError\u001b[0m: Difference found, astar (42) versus dijkstras (34)"
     ]
    }
   ],
   "source": [
    "%load_ext autoreload\n",
    "%autoreload 2\n",
    "\n",
    "from util.astar_search import _dijkstras, astar_pathfinding\n",
    "from util.maze_generator import maze_generator\n",
    "\n",
    "for _ in range(10):\n",
    "    maze = maze_generator((8, 14))\n",
    "    path = astar_pathfinding(maze)\n",
    "    dist = _dijkstras(maze)\n",
    "\n",
    "    astar_dist = 0\n",
    "    prev = path[0]\n",
    "    for i in path[1:]:\n",
    "        t = (prev[0] - i[0]) * (prev[1] - i[1])\n",
    "        astar_dist += (10 if t == 0 else 14)\n",
    "\n",
    "    assert abs(astar_dist - dist) < 0.0001, f\"Difference found, astar ({astar_dist}) versus dijkstras ({dist})\""
   ]
  },
  {
   "cell_type": "code",
   "execution_count": null,
   "metadata": {},
   "outputs": [],
   "source": []
  }
 ],
 "metadata": {
  "kernelspec": {
   "display_name": ".venv",
   "language": "python",
   "name": "python3"
  },
  "language_info": {
   "codemirror_mode": {
    "name": "ipython",
    "version": 3
   },
   "file_extension": ".py",
   "mimetype": "text/x-python",
   "name": "python",
   "nbconvert_exporter": "python",
   "pygments_lexer": "ipython3",
   "version": "3.11.11"
  }
 },
 "nbformat": 4,
 "nbformat_minor": 2
}
