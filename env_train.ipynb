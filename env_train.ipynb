{
 "cells": [
  {
   "cell_type": "code",
   "execution_count": null,
   "metadata": {},
   "outputs": [],
   "source": [
    "import torch\n",
    "\n",
    "from stable_baselines3 import PPO\n",
    "import gymnasium as gym\n",
    "from continuous_env.robot_obstacles import RobotObstacles\n",
    "from continuous_env.discrete_obstacles import DiscreteRobotObstacles\n",
    "\n",
    "print(torch.cuda.is_available())\n",
    "\n",
    "gym.register(\n",
    "    id=\"DiscreteRobotObstacleEnv-v1\",\n",
    "    entry_point=DiscreteRobotObstacles,\n",
    "    max_episode_steps=1000,\n",
    ")"
   ]
  },
  {
   "cell_type": "code",
   "execution_count": null,
   "metadata": {},
   "outputs": [],
   "source": [
    "from stable_baselines3 import PPO\n",
    "from stable_baselines3.common.vec_env import SubprocVecEnv, VecFrameStack\n",
    "from stable_baselines3.common.callbacks import CheckpointCallback\n",
    "\n",
    "TIMESTEPS = 2_000_000\n",
    "\n",
    "def make_env():\n",
    "    def _init():\n",
    "        env = DiscreteRobotObstacles()\n",
    "        return env\n",
    "    return _init\n",
    "\n",
    "log_path = \"./logs\"\n",
    "num_envs = 4\n",
    "env_fns = [make_env() for _ in range(num_envs)]\n",
    "env = SubprocVecEnv(env_fns)\n",
    "env = VecFrameStack(env, n_stack=4)\n",
    "\n",
    "device = torch.device(\"cuda\" if torch.cuda.is_available() else \"cpu\")\n",
    "model = PPO(\"CnnPolicy\", env, device=device, tensorboard_log=log_path, verbose=1)\n",
    "\n",
    "checkpoint_callback = CheckpointCallback(save_freq=10_000, save_path=\"./checkpoints/\", name_prefix=\"ppo_model\")"
   ]
  },
  {
   "cell_type": "code",
   "execution_count": null,
   "metadata": {},
   "outputs": [],
   "source": [
    "model.learn(total_timesteps=TIMESTEPS, callback=checkpoint_callback)"
   ]
  },
  {
   "cell_type": "code",
   "execution_count": null,
   "metadata": {},
   "outputs": [],
   "source": [
    "model.save(\"weights/ppo_model\")"
   ]
  },
  {
   "cell_type": "code",
   "execution_count": null,
   "metadata": {},
   "outputs": [],
   "source": [
    "model.load(\"checkpoints/ppo_model_360000_steps\")"
   ]
  },
  {
   "cell_type": "code",
   "execution_count": null,
   "metadata": {},
   "outputs": [],
   "source": [
    "eval_env = VecFrameStack(SubprocVecEnv([make_env()]), n_stack=4)\n",
    "obs = eval_env.reset()\n",
    "\n",
    "episode_rewards = []\n",
    "episode_reward = 0\n",
    "episodes_completed = 0\n",
    "\n",
    "for _ in range(10000):\n",
    "    action, _states = model.predict(obs, deterministic=True)\n",
    "    obs, rewards, terms, truncs = eval_env.step(action)\n",
    "    \n",
    "    episode_reward += rewards[0]  \n",
    "    \n",
    "    if terms[0] or truncs[0]:\n",
    "        episodes_completed += 1\n",
    "        episode_rewards.append(episode_reward)\n",
    "        episode_reward = 0\n",
    "        \n",
    "    if episodes_completed >= 1000:  \n",
    "        break\n",
    "\n",
    "print(episode_rewards)\n",
    "avg_reward = sum(episode_rewards) / len(episode_rewards)\n",
    "print(f\"Average reward over {len(episode_rewards)} episodes: {avg_reward}\")"
   ]
  },
  {
   "cell_type": "code",
   "execution_count": null,
   "metadata": {},
   "outputs": [],
   "source": [
    "from stable_baselines3 import PPO\n",
    "from stable_baselines3.common.vec_env import SubprocVecEnv, VecFrameStack, DummyVecEnv\n",
    "from stable_baselines3.common.callbacks import CheckpointCallback\n",
    "import time\n",
    "\n",
    "\n",
    "eval_env = DiscreteRobotObstacles(render_mode=\"human\")\n",
    "eval_env = DummyVecEnv([lambda: eval_env])\n",
    "eval_env = VecFrameStack(eval_env, n_stack=4)\n",
    "\n",
    "obs = eval_env.reset()\n",
    "done = False\n",
    "\n",
    "while True: \n",
    "    while not done:\n",
    "        action, _ = model.predict(obs, deterministic=True)\n",
    "        action_map = {\n",
    "            0: \"steer left\",\n",
    "            1: \"steer right\",\n",
    "            2: \"accelerate\",\n",
    "            3: \"brake\",\n",
    "            4: \"go back\",\n",
    "            5: \"do nothing\"\n",
    "        }\n",
    "        print(f\"Action taken: {action_map[action[0]]}\")\n",
    "        obs, reward, done, info = eval_env.step(action)\n",
    "        eval_env.render()\n",
    "        \n",
    "        time.sleep(0.00001)\n",
    "        \n",
    "    obs = eval_env.reset()\n",
    "    done = False\n"
   ]
  },
  {
   "cell_type": "code",
   "execution_count": null,
   "metadata": {},
   "outputs": [],
   "source": []
  }
 ],
 "metadata": {
  "kernelspec": {
   "display_name": ".venv",
   "language": "python",
   "name": "python3"
  },
  "language_info": {
   "codemirror_mode": {
    "name": "ipython",
    "version": 3
   },
   "file_extension": ".py",
   "mimetype": "text/x-python",
   "name": "python",
   "nbconvert_exporter": "python",
   "pygments_lexer": "ipython3",
   "version": "3.11.11"
  }
 },
 "nbformat": 4,
 "nbformat_minor": 2
}
